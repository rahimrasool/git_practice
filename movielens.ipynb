{
  "cells": [
    {
      "metadata": {
        "_uuid": "d319c4cda3c4245bcbbc250e6d920ff875646060"
      },
      "cell_type": "markdown",
      "source": "**Deliberate Practice - Recommender Systems**\nIn this exercise, we'll be using the [MovieLens 100K Dataset](https://grouplens.org/datasets/movielens/100k/) which contains 100,000 movie ratings from around 1000 users on 1700 movies. This deliberate practice will allow you to recommend movies to a particular user based on the movies he already rated. We'll be using the [LightFM](https://github.com/lyst/lightfm) library which contains a number of popular recommendation algorithms."
    },
    {
      "metadata": {
        "_uuid": "c2ac36c7dc54f06fa3959ea778b7cd4bc5d2e635"
      },
      "cell_type": "markdown",
      "source": "Recommender algorithms help us make decisions by learning our preferences. They are used by popular services to suggest products to their customers Netlix would use recommender systems to suggest movies/TV shows to their customers based on what the user has liked in the past or what other similar users have liked. Similarly, Amazon uses recommender systems to suggest products to their customers based on the same principal.\n\n\n"
    },
    {
      "metadata": {
        "_uuid": "7682fd7b14032e1b9dc26dc6e161d416eb4cd0da"
      },
      "cell_type": "markdown",
      "source": "**Recommender systems can be classified under 2 major categories:**\n\n**Collaborative Systems:**<br>\nCollaborative systems provide suggestions based on what other similar users liked in the past. By recording the preferences of users, a collaborative system would cluster similar users and provide recommendation to users based on the activity of users of the same group. \n\n**Content-based Systems:**<br>\nContent-based systems provide recommendation based on what the user liked in the past. This can be in the form of movie ratings, likes and clicks. All the recorded  activity allows these algorithms to provide suggestions on products if they possess similar features to the products liked by the user in the past."
    },
    {
      "metadata": {
        "_uuid": "846650065ba23488fb0e5e0b9ea3a0e21266ae05"
      },
      "cell_type": "markdown",
      "source": "We'll start by installing the dependencies. Below we'll be downloading LightFM library that will provide us with our model."
    },
    {
      "metadata": {
        "_cell_guid": "79c7e3d0-c299-4dcb-8224-4455121ee9b0",
        "_uuid": "d629ff2d2480ee46fbb7e2d37f6b5fab8052498a",
        "trusted": true
      },
      "cell_type": "code",
      "source": "!pip install lightfm",
      "execution_count": null,
      "outputs": []
    },
    {
      "metadata": {
        "_uuid": "9f0c05fe47cd4f6c8b2b34f58504dd9d56fd3d7a"
      },
      "cell_type": "markdown",
      "source": "We will now import our dependencies. We'll import numpy for calculations and handling matrices. We'll use LightFM module that has our model. We'll also import fetch_movielens module that has a simplified function to fetch movielens 100K dataset in a suitable format"
    },
    {
      "metadata": {
        "trusted": true,
        "_uuid": "413a3139cd0639ba62c5d6bca45c72756bc31b66"
      },
      "cell_type": "code",
      "source": "import numpy as np\nfrom lightfm import LightFM\nfrom lightfm.datasets import fetch_movielens",
      "execution_count": null,
      "outputs": []
    },
    {
      "metadata": {
        "_uuid": "091cf8d03560262099ec6017e5d7f3d84a59c586"
      },
      "cell_type": "markdown",
      "source": "The dataset contains 100,000 interactions from 1000 users on 1700 movies, and is exhaustively described in its [README](http://files.grouplens.org/datasets/movielens/ml-100k-README.txt)."
    },
    {
      "metadata": {
        "trusted": true,
        "_uuid": "9a2306c129f175086e274502b4320074447a0bab"
      },
      "cell_type": "code",
      "source": "#We'll fetch movielens data using the imported fetch_movie lens method to our movielens_data variable\nmovielens_data = fetch_movielens(min_rating = 3.0)",
      "execution_count": null,
      "outputs": []
    },
    {
      "metadata": {
        "_uuid": "635a345cb7aca97061f3e70f1a64b302f1b0ef3a"
      },
      "cell_type": "markdown",
      "source": "\n\nThe return value is a dictionary containing the following keys:\n\nReturns:\t\n* train (sp.coo_matrix of shape [n_users, n_items]) – Contains training set interactions.\n* test (sp.coo_matrix of shape [n_users, n_items]) – Contains testing set interactions.\n* item_features (sp.csr_matrix of shape [n_items, n_item_features]) – Contains item features.\n* item_feature_labels (np.array of strings of shape [n_item_features,]) – Labels of item features.\n* item_labels (np.array of strings of shape [n_items,]) – Items’ titles."
    },
    {
      "metadata": {
        "trusted": true,
        "_uuid": "8632f4fb5295204a81029075d2c2449a8bd8ada6"
      },
      "cell_type": "code",
      "source": "#create model\nmodel = LightFM(loss = 'warp')\n#train model\nmodel.fit(movielens_data['train'], epochs=30, num_threads=2)",
      "execution_count": null,
      "outputs": []
    },
    {
      "metadata": {
        "trusted": true,
        "_uuid": "ee28d2e304baab35fb82dfd6405857fa55f47fed"
      },
      "cell_type": "code",
      "source": "#number of users and movies in training data\nn_users, n_items = movielens_data['train'].shape\nprint(\"n_users: \" + str(n_users))\nprint(\"n_items: \" + str(n_items))",
      "execution_count": null,
      "outputs": []
    },
    {
      "metadata": {
        "trusted": true,
        "_uuid": "7b71c22245cb9cb50af0593f784286e2476e9bb3"
      },
      "cell_type": "code",
      "source": "user_id = 18\n\n#movies they already like:\n#known_positives = data['item_labels'][data['train'].tocsr()[user_id].indices]\n    \n#movies our model predicts they will like:\n\nitem_ids = np.arange(n_items)\n\nscores = model.predict(user_id, item_ids)\n\nsorted_ids = np.argsort(-scores)\n\n#rank them in order of most liked to least:\ntop_items = data['item_labels'][sorted_ids]",
      "execution_count": null,
      "outputs": []
    },
    {
      "metadata": {
        "trusted": true,
        "_uuid": "1ef23bd4ca1b18f16f00b538040f8505c04d0369"
      },
      "cell_type": "code",
      "source": "print(\"Top 5 movies to be recommended to user \" + str(user_id) + \" are:\\n\")\n\nfor movie in range(5):\n    print(str(movie+1) + \". \" + top_items[movie])",
      "execution_count": null,
      "outputs": []
    },
    {
      "metadata": {
        "trusted": true,
        "_uuid": "55c2bd921e833f9e57b5287b2c014f60b667e2a7"
      },
      "cell_type": "code",
      "source": "",
      "execution_count": null,
      "outputs": []
    }
  ],
  "metadata": {
    "kernelspec": {
      "display_name": "Python 3",
      "language": "python",
      "name": "python3"
    },
    "language_info": {
      "name": "python",
      "version": "3.6.6",
      "mimetype": "text/x-python",
      "codemirror_mode": {
        "name": "ipython",
        "version": 3
      },
      "pygments_lexer": "ipython3",
      "nbconvert_exporter": "python",
      "file_extension": ".py"
    }
  },
  "nbformat": 4,
  "nbformat_minor": 1
}